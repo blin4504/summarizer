{
 "cells": [
  {
   "cell_type": "code",
   "execution_count": 53,
   "id": "fff705e2",
   "metadata": {},
   "outputs": [],
   "source": [
    "import nltk\n",
    "import requests\n",
    "from bs4 import BeautifulSoup\n",
    "from string import punctuation\n",
    "from nltk.corpus import stopwords\n",
    "from sklearn.feature_extraction.text import TfidfVectorizer\n",
    "import numpy as np\n",
    "import re"
   ]
  },
  {
   "cell_type": "code",
   "execution_count": 83,
   "id": "0b7937b0",
   "metadata": {
    "scrolled": false
   },
   "outputs": [],
   "source": [
    "# ------ PREPROCESS ------\n",
    "# request data from URL\n",
    "URL = \"https://en.wikipedia.org/wiki/The_Great_Wave_off_Kanagawa\"\n",
    "page = requests.get(URL).text\n",
    "\n",
    "# scrape it off and find all text contents\n",
    "soup = BeautifulSoup(page, \"html.parser\")\n",
    "paragraphs = soup.find_all('p')\n",
    "\n",
    "# combine all paragraphs into text without <p> tags\n",
    "text = \"\"\n",
    "for i in paragraphs:\n",
    "    text += i.text\n",
    "\n",
    "# split into sentences and tokenizing\n",
    "text = text.lower()\n",
    "text = re.sub(r'\\[[0-9]*\\]', ' ', text)\n",
    "sentences = nltk.sent_tokenize(text)\n",
    "word_token = nltk.word_tokenize(text)\n",
    "stop_words = stopwords.words('english')\n",
    "filtered_words = [word for word in word_token if word not in stop_words]\n",
    "filtered_words = [word for word in filtered_words if word not in punctuation]"
   ]
  },
  {
   "cell_type": "code",
   "execution_count": 84,
   "id": "58baef23",
   "metadata": {},
   "outputs": [],
   "source": [
    "# compute TF-IDF on all the words\n",
    "fdist = nltk.FreqDist(filtered_words)\n",
    "for i in fdist.keys():\n",
    "    fdist[i] /= len(filtered_words)\n",
    "\n",
    "sentence_scores = {}\n",
    "for sent in sentences:\n",
    "    for word in nltk.word_tokenize(sent.lower()):\n",
    "        if word in fdist:\n",
    "            if sent not in sentence_scores:\n",
    "                sentence_scores[sent] = fdist[word]\n",
    "            else:\n",
    "                sentence_scores[sent] += fdist[word]\n",
    "\n",
    "for sent in sentence_scores:\n",
    "    sentence_scores[sent] /= len(sent)\n",
    "\n",
    "threshhold = np.mean(list(sentence_scores.values()))"
   ]
  },
  {
   "cell_type": "code",
   "execution_count": 85,
   "id": "6a80121f",
   "metadata": {},
   "outputs": [
    {
     "name": "stdout",
     "output_type": "stream",
     "text": [
      "3680\n",
      "\n",
      "the great wave off kanagawa (japanese: 神奈川沖浪裏, hepburn: kanagawa-oki nami ura, lit.'under the wave off kanagawa')[a] is a woodblock print by japanese ukiyo-e artist hokusai, created in late 1831 during the edo period of japanese history.the print is hokusai's best-known work and the first in his series thirty-six views of mount fuji, in which the use of prussian blue revolutionized japanese prints.several museums throughout the world hold copies of the great wave, many of which came from 19th-century private collections of japanese prints.the great wave off kanagawa has been described as \"possibly the most reproduced image in the history of all art\",  as well as being a contender for the \"most famous artwork in japanese history\".in the great wave off kanagawa, mount fuji is depicted in blue with white highlights in a similar way to the wave in the foreground.the big wave's foam-curves generate other curves, which are divided into many small waves that repeat the image of the large wave.the wave is generally described as that produced by a tsunami, a giant wave or more likely a rogue wave, but also as a monstrous or ghostly wave like a white skeleton threatening the fishermen with its \"claws\" of foam.this interpretation of the work recalls hokusai's mastery of japanese fantasy, which is evidenced by the ghosts in his hokusai manga.the wave's silhouette resembles that of a dragon, which the author frequently depicts, even on mount fuji.the great wave of kanagawa has two inscriptions.hokusai faced numerous challenges during the composition of the great wave off kanagawa.the great wave off kanagawa demonstrates hokusai's drawing skill.hokusai returned to the image of the great wave a few years later when he produced kaijo no fuji for the second volume of one hundred views of fuji.while the wave in the great wave moves in the opposite direction of the japanese reading – from right to left – the wave and birds in kaijo no fuji move in unison.the japanese interpret the great wave off kanagawa from right to left, emphasising the danger posed by the enormous wave.about 1,000 copies of the great wave off kanagawa were initially printed, resulting in wear in later editions of print copies.some private collections such as the gale collection also have copies of the great wave off kanagawa.as the most famous japanese print,  the great wave off kanagawa influenced great works: in painting, works by claude monet; in music,  claude debussy's la mer; and in literature, rainer maria rilke's der berg.claude debussy, who loved the sea and painted images of the far east, kept a copy of the great wave off kanagawa in his studio.vincent van gogh, a great admirer of hokusai, praised the quality of drawing and use of line in the great wave off kanagawa, and wrote it had a \"terrifying\" emotional impact.french sculptor camille claudel's la vague [fr] (1897) replaced the boats in hokusai's the great wave off kanagawa  with three women dancing in a circle.hiroshige paid homage to the great wave off kanagawa with his print the sea off satta in suruga province  while french artist gustave-henri jossot produced a satirical painting in the style of the great wave off kanagawa to mock the popularity of japonisme.the great wave off kanagawa is also the subject of the 93rd episode of the bbc radio series a history of the world in 100 objects produced in collaboration with the british museum, which was released on 4 september 2010.  a replica of the great wave off kanagawa was created for a documentary film about hokusai released by the british museum in 2017. \n",
      " media related to the great wave off kanagawa by katsushika hokusai at wikimedia commons\n"
     ]
    }
   ],
   "source": [
    "# get summary\n",
    "summary = \"\"\n",
    "for sent in sentence_scores:\n",
    "    if sentence_scores[sent] >= threshhold * 1.5:\n",
    "        summary += sent\n",
    "print(len(summary))\n",
    "print(summary)"
   ]
  }
 ],
 "metadata": {
  "kernelspec": {
   "display_name": "Python 3 (ipykernel)",
   "language": "python",
   "name": "python3"
  },
  "language_info": {
   "codemirror_mode": {
    "name": "ipython",
    "version": 3
   },
   "file_extension": ".py",
   "mimetype": "text/x-python",
   "name": "python",
   "nbconvert_exporter": "python",
   "pygments_lexer": "ipython3",
   "version": "3.10.9"
  }
 },
 "nbformat": 4,
 "nbformat_minor": 5
}
