{
 "cells": [
  {
   "cell_type": "code",
   "execution_count": 99,
   "id": "fff705e2",
   "metadata": {},
   "outputs": [
    {
     "ename": "ModuleNotFoundError",
     "evalue": "No module named 'sklearn'",
     "output_type": "error",
     "traceback": [
      "\u001b[0;31m---------------------------------------------------------------------------\u001b[0m",
      "\u001b[0;31mModuleNotFoundError\u001b[0m                       Traceback (most recent call last)",
      "Cell \u001b[0;32mIn[99], line 6\u001b[0m\n\u001b[1;32m      4\u001b[0m \u001b[38;5;28;01mfrom\u001b[39;00m \u001b[38;5;21;01mstring\u001b[39;00m \u001b[38;5;28;01mimport\u001b[39;00m punctuation\n\u001b[1;32m      5\u001b[0m \u001b[38;5;28;01mfrom\u001b[39;00m \u001b[38;5;21;01mnltk\u001b[39;00m\u001b[38;5;21;01m.\u001b[39;00m\u001b[38;5;21;01mcorpus\u001b[39;00m \u001b[38;5;28;01mimport\u001b[39;00m stopwords\n\u001b[0;32m----> 6\u001b[0m \u001b[38;5;28;01mfrom\u001b[39;00m \u001b[38;5;21;01msklearn\u001b[39;00m\u001b[38;5;21;01m.\u001b[39;00m\u001b[38;5;21;01mfeature_extraction\u001b[39;00m\u001b[38;5;21;01m.\u001b[39;00m\u001b[38;5;21;01mtext\u001b[39;00m \u001b[38;5;28;01mimport\u001b[39;00m TfidfVectorizer\n",
      "\u001b[0;31mModuleNotFoundError\u001b[0m: No module named 'sklearn'"
     ]
    }
   ],
   "source": [
    "import nltk\n",
    "import requests\n",
    "from bs4 import BeautifulSoup\n",
    "from string import punctuation\n",
    "from nltk.corpus import stopwords\n",
    "from sklearn.feature_extraction.text import TfidfVectorizer"
   ]
  },
  {
   "cell_type": "code",
   "execution_count": 97,
   "id": "0b7937b0",
   "metadata": {
    "scrolled": false
   },
   "outputs": [],
   "source": [
    "# ------ PREPROCESS ------\n",
    "# request data from URL\n",
    "URL = \"https://en.wikipedia.org/wiki/The_Great_Wave_off_Kanagawa\"\n",
    "page = requests.get(URL).text\n",
    "\n",
    "# scrape it off and find all text contents\n",
    "soup = BeautifulSoup(page, \"html.parser\")\n",
    "paragraphs = soup.find_all('p')\n",
    "\n",
    "# combine all paragraphs into text without <p> tags\n",
    "text = \"\"\n",
    "for i in paragraphs:\n",
    "    text += i.text\n",
    "\n",
    "# split into sentences and tokenizing\n",
    "text = text.lower()\n",
    "sentences = nltk.sent_tokenize(text)\n",
    "word_token = nltk.word_tokenize(text)\n",
    "stop_words = stopwords.words('english')\n",
    "filtered_words = [word for word in word_token if word not in stop_words]\n",
    "filtered_words = [word for word in filtered_words if word not in punctuation]"
   ]
  },
  {
   "cell_type": "code",
   "execution_count": 98,
   "id": "3973658b",
   "metadata": {},
   "outputs": [
    {
     "ename": "NameError",
     "evalue": "name 'TfidfVectorizer' is not defined",
     "output_type": "error",
     "traceback": [
      "\u001b[0;31m---------------------------------------------------------------------------\u001b[0m",
      "\u001b[0;31mNameError\u001b[0m                                 Traceback (most recent call last)",
      "Cell \u001b[0;32mIn[98], line 1\u001b[0m\n\u001b[0;32m----> 1\u001b[0m vectorizer \u001b[38;5;241m=\u001b[39m \u001b[43mTfidfVectorizer\u001b[49m()\n\u001b[1;32m      2\u001b[0m vectorizer\u001b[38;5;241m.\u001b[39mfit(sentences)\n\u001b[1;32m      3\u001b[0m vectorized_texts \u001b[38;5;241m=\u001b[39m vectorizer\u001b[38;5;241m.\u001b[39mtransform(input_texts)\n",
      "\u001b[0;31mNameError\u001b[0m: name 'TfidfVectorizer' is not defined"
     ]
    }
   ],
   "source": [
    "vectorizer = TfidfVectorizer()\n",
    "vectorizer.fit(sentences)\n",
    "vectorized_texts = vectorizer.transform(input_texts)\n",
    "print(vectorized_texts)"
   ]
  }
 ],
 "metadata": {
  "kernelspec": {
   "display_name": "Python 3 (ipykernel)",
   "language": "python",
   "name": "python3"
  },
  "language_info": {
   "codemirror_mode": {
    "name": "ipython",
    "version": 3
   },
   "file_extension": ".py",
   "mimetype": "text/x-python",
   "name": "python",
   "nbconvert_exporter": "python",
   "pygments_lexer": "ipython3",
   "version": "3.10.9"
  }
 },
 "nbformat": 4,
 "nbformat_minor": 5
}
